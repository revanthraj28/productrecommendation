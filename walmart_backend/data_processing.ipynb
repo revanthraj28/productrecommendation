{
 "cells": [
  {
   "cell_type": "code",
   "execution_count": 2,
   "id": "2c59d1a8",
   "metadata": {},
   "outputs": [
    {
     "name": "stdout",
     "output_type": "stream",
     "text": [
      "  product_id product_name  category       price\n",
      "0  product_1    Product 1  Clothing   53.703998\n",
      "1  product_2    Product 2  Clothing  430.922022\n",
      "2  product_3    Product 3      Home  452.852303\n",
      "3  product_4    Product 4  Clothing  405.971263\n",
      "4  product_5    Product 5      Home  498.678362\n"
     ]
    }
   ],
   "source": [
    "import pandas as pd\n",
    "import numpy as np\n",
    "\n",
    "# Simulate product catalog\n",
    "products = {\n",
    "    'product_id': ['product_' + str(i) for i in range(1, 51)],\n",
    "    'product_name': ['Product ' + str(i) for i in range(1, 51)],\n",
    "    'category': np.random.choice(['Electronics', 'Clothing', 'Home', 'Grocery'], 50),\n",
    "    'price': np.random.uniform(10, 500, 50)\n",
    "}\n",
    "\n",
    "product_df = pd.DataFrame(products)\n",
    "print(product_df.head())\n",
    "\n",
    "# Save the product data to a CSV file\n",
    "product_df.to_csv('product_data.csv', index=False)\n"
   ]
  },
  {
   "cell_type": "code",
   "execution_count": 3,
   "id": "98fbcf25",
   "metadata": {},
   "outputs": [
    {
     "name": "stdout",
     "output_type": "stream",
     "text": [
      "   customer_id  product_id purchase_date\n",
      "0  customer_52  product_34    2023-01-01\n",
      "1  customer_93  product_47    2023-01-02\n",
      "2  customer_15   product_8    2023-01-03\n",
      "3  customer_72  product_40    2023-01-04\n",
      "4  customer_61  product_49    2023-01-05\n"
     ]
    }
   ],
   "source": [
    "# Simulate customer purchase history\n",
    "np.random.seed(42)\n",
    "customers = ['customer_' + str(i) for i in range(1, 101)]\n",
    "purchase_history = {\n",
    "    'customer_id': np.random.choice(customers, 1000),\n",
    "    'product_id': np.random.choice(products['product_id'], 1000),\n",
    "    'purchase_date': pd.date_range(start='2023-01-01', periods=1000, freq='D')\n",
    "}\n",
    "\n",
    "purchase_df = pd.DataFrame(purchase_history)\n",
    "print(purchase_df.head())\n",
    "\n",
    "# Save the purchase history to a CSV file\n",
    "purchase_df.to_csv('purchase_history.csv', index=False)\n"
   ]
  },
  {
   "cell_type": "code",
   "execution_count": 4,
   "id": "dac9a21d",
   "metadata": {},
   "outputs": [
    {
     "name": "stdout",
     "output_type": "stream",
     "text": [
      "            price\n",
      "count   50.000000\n",
      "mean   245.234841\n",
      "std    140.782199\n",
      "min     16.643197\n",
      "25%    129.686832\n",
      "50%    214.020234\n",
      "75%    375.649076\n",
      "max    498.678362\n",
      "customer_90    20\n",
      "customer_62    19\n",
      "customer_92    19\n",
      "customer_99    18\n",
      "customer_33    18\n",
      "Name: customer_id, dtype: int64\n"
     ]
    }
   ],
   "source": [
    "# Load data from CSV files\n",
    "product_df = pd.read_csv('product_data.csv')\n",
    "purchase_df = pd.read_csv('purchase_history.csv')\n",
    "\n",
    "# Display some basic statistics\n",
    "print(product_df.describe())\n",
    "print(purchase_df['customer_id'].value_counts().head())\n"
   ]
  },
  {
   "cell_type": "code",
   "execution_count": 5,
   "id": "776336a7",
   "metadata": {},
   "outputs": [
    {
     "name": "stdout",
     "output_type": "stream",
     "text": [
      "product_id    product_1  product_10  product_11  product_12  product_13  \\\n",
      "customer_id                                                               \n",
      "customer_1            0           0           3           0           0   \n",
      "customer_10           0           0           0           1           0   \n",
      "customer_100          0           0           0           0           1   \n",
      "customer_11           0           0           1           0           0   \n",
      "customer_12           0           1           0           0           0   \n",
      "\n",
      "product_id    product_14  product_15  product_16  product_17  product_18  ...  \\\n",
      "customer_id                                                               ...   \n",
      "customer_1             0           0           0           1           1  ...   \n",
      "customer_10            0           0           0           0           0  ...   \n",
      "customer_100           0           0           0           0           0  ...   \n",
      "customer_11            0           0           0           0           0  ...   \n",
      "customer_12            0           0           1           1           1  ...   \n",
      "\n",
      "product_id    product_46  product_47  product_48  product_49  product_5  \\\n",
      "customer_id                                                               \n",
      "customer_1             0           0           0           1          0   \n",
      "customer_10            0           1           0           0          0   \n",
      "customer_100           0           2           0           0          0   \n",
      "customer_11            0           0           0           0          0   \n",
      "customer_12            1           0           0           0          0   \n",
      "\n",
      "product_id    product_50  product_6  product_7  product_8  product_9  \n",
      "customer_id                                                           \n",
      "customer_1             0          0          0          0          0  \n",
      "customer_10            0          0          1          0          0  \n",
      "customer_100           0          0          0          0          0  \n",
      "customer_11            0          0          0          0          0  \n",
      "customer_12            1          0          0          0          0  \n",
      "\n",
      "[5 rows x 50 columns]\n"
     ]
    }
   ],
   "source": [
    "# Create a pivot table for user-product interactions\n",
    "user_product_matrix = purchase_df.pivot_table(\n",
    "    index='customer_id', columns='product_id', aggfunc='size', fill_value=0\n",
    ")\n",
    "print(user_product_matrix.head())\n"
   ]
  },
  {
   "cell_type": "code",
   "execution_count": 6,
   "id": "75ed4649",
   "metadata": {},
   "outputs": [
    {
     "name": "stdout",
     "output_type": "stream",
     "text": [
      "    product_id product_name  category       price\n",
      "7    product_8    Product 8  Clothing  448.783986\n",
      "10  product_11   Product 11   Grocery  155.974126\n",
      "16  product_17   Product 17      Home  365.055196\n",
      "28  product_29   Product 29  Clothing  290.942946\n",
      "35  product_36   Product 36   Grocery   30.436025\n"
     ]
    }
   ],
   "source": [
    "from sklearn.metrics.pairwise import cosine_similarity\n",
    "\n",
    "# Calculate similarity matrix\n",
    "similarity_matrix = cosine_similarity(user_product_matrix)\n",
    "similarity_df = pd.DataFrame(similarity_matrix, index=user_product_matrix.index, columns=user_product_matrix.index)\n",
    "\n",
    "# Function to get recommendations for a specific customer\n",
    "def get_recommendations(customer_id, n=5):\n",
    "    similar_customers = similarity_df[customer_id].sort_values(ascending=False).index[1:n+1]\n",
    "    recommended_products = user_product_matrix.loc[similar_customers].sum().sort_values(ascending=False).head(n).index\n",
    "    return product_df[product_df['product_id'].isin(recommended_products)]\n",
    "\n",
    "# Example: Get recommendations for a customer\n",
    "recommendations = get_recommendations('customer_1')\n",
    "print(recommendations)\n"
   ]
  },
  {
   "cell_type": "code",
   "execution_count": 8,
   "id": "f4b35334",
   "metadata": {},
   "outputs": [],
   "source": [
    "recommendations.to_csv('customer_1_recommendations.csv', index=False)\n"
   ]
  },
  {
   "cell_type": "code",
   "execution_count": null,
   "id": "193929bc",
   "metadata": {},
   "outputs": [],
   "source": []
  }
 ],
 "metadata": {
  "kernelspec": {
   "display_name": "Python 3 (ipykernel)",
   "language": "python",
   "name": "python3"
  },
  "language_info": {
   "codemirror_mode": {
    "name": "ipython",
    "version": 3
   },
   "file_extension": ".py",
   "mimetype": "text/x-python",
   "name": "python",
   "nbconvert_exporter": "python",
   "pygments_lexer": "ipython3",
   "version": "3.9.13"
  }
 },
 "nbformat": 4,
 "nbformat_minor": 5
}
